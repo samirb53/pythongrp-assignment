{
 "cells": [
  {
   "cell_type": "markdown",
   "metadata": {},
   "source": [
    "# 📜 Automated Trading System - ETL Process\n",
    "\n",
    "## ✅ Purpose\n",
    "This notebook (`ETL.ipynb`) performs the **Extract, Transform, Load (ETL)** process on historical stock data downloaded from **SimFin**. It prepares the dataset for **Machine Learning** by cleaning, merging, and structuring data efficiently.\n",
    "\n",
    "---\n",
    "\n",
    "## 📌 Steps in the ETL Process\n",
    "\n",
    "### 1️⃣ Extract Data\n",
    "- **Loaded CSV files** from SimFin bulk download:\n",
    "  - `us-shareprices-daily.csv` → **Daily stock prices**\n",
    "  - `us-companies.csv` → **Company details**\n",
    "  - `us-income-quarterly.csv` → **Quarterly financial reports** (optional)\n",
    "- Used **Pandas** to read datasets with correct delimiters (`;`).\n",
    "\n",
    "---\n",
    "\n",
    "### 2️⃣ Transform Data\n",
    "- **Converted `date` column** to datetime format.\n",
    "- **Dropped missing values** in essential columns (`ticker`, `close`).\n",
    "- **Converted price-related columns** (`Open`, `High`, `Low`, `Close`, `Volume`) to float.\n",
    "- **Merged stock prices with company info** on `ticker`.\n",
    "\n",
    "#### 🔹 Handling Missing Data:\n",
    "| Column | Issue | Solution |\n",
    "|---------|--------|-----------|\n",
    "| `dividend` | Many NaN values | Filled with `0` (assuming no dividend was given) |\n",
    "| `shares outstanding` | Missing values | Replaced with **median value** |\n",
    "| `industryid` & `isin` | Missing industry data | Filled with `\"Unknown Industry\"` and `\"Unknown\"` |\n",
    "| `business summary`, `number employees`, `CIK` | Too many NaNs | **Dropped from dataset** |\n",
    "\n",
    "---\n",
    "\n",
    "### 3️⃣ Load Data\n",
    "- **Saved cleaned dataset** as `fully_cleaned_stock_data.csv` for Machine Learning.\n",
    "- **Confirmed no missing values** using:\n",
    "  ```python\n",
    "  print(merged_df.isnull().sum())  # Should all be 0\n"
   ]
  }
 ],
 "metadata": {
  "language_info": {
   "name": "python"
  }
 },
 "nbformat": 4,
 "nbformat_minor": 2
}
