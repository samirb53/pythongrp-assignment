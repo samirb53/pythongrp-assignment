{
 "cells": [
  {
   "cell_type": "markdown",
   "metadata": {},
   "source": [
    "# Load\n"
   ]
  },
  {
   "cell_type": "code",
   "execution_count": 1,
   "metadata": {},
   "outputs": [],
   "source": [
    "import pandas as pd\n",
    "import numpy as np\n",
    "import joblib\n",
    "import matplotlib.pyplot as plt\n",
    "import seaborn as sns\n",
    "from sklearn.model_selection import train_test_split\n",
    "from sklearn.preprocessing import StandardScaler\n",
    "from sklearn.ensemble import RandomForestClassifier\n",
    "from sklearn.linear_model import LogisticRegression\n",
    "from sklearn.metrics import accuracy_score, classification_report, confusion_matrix\n",
    "from imblearn.over_sampling import SMOTE\n",
    "\n",
    "# 1️⃣ Load Data\n",
    "data = pd.read_csv(\"filtered_stock_data.csv\")\n"
   ]
  },
  {
   "cell_type": "markdown",
   "metadata": {},
   "source": [
    "# Feature Engineering adding ma5 etc\n"
   ]
  },
  {
   "cell_type": "code",
   "execution_count": 2,
   "metadata": {},
   "outputs": [],
   "source": [
    "# 2️⃣ Feature Engineering (Creating MA5, MA10, Volume Change, etc.)\n",
    "data['MA5'] = data['close'].rolling(window=5).mean()\n",
    "data['MA10'] = data['close'].rolling(window=10).mean()\n",
    "data['MA20'] = data['close'].rolling(window=20).mean()\n",
    "data['volume_change'] = data['volume'].pct_change()\n",
    "data['price_change'] = data['close'].pct_change()\n",
    "\n",
    "\n",
    "# 1️⃣ Define Target Variable\n",
    "data[\"Target\"] = np.where(data[\"close\"].shift(-1) > data[\"close\"], 1, 0)  # 1 = Price Up, 0 = Price Down\n",
    "\n",
    "# 2️⃣ Drop the last row (since we can't predict future values for the last row)\n",
    "data.dropna(inplace=True)\n",
    "\n",
    "# 3️⃣ Select Features and Target\n",
    "features = [\"open\", \"high\", \"low\", \"close\", \"adj. close\", \"volume\", \"dividend\", \n",
    "            \"shares outstanding\", \"MA5\", \"MA10\", \"MA20\", \"volume_change\", \"price_change\"]\n",
    "target = \"Target\"\n",
    "\n",
    "X = data[features]\n",
    "y = data[target]\n"
   ]
  },
  {
   "cell_type": "code",
   "execution_count": 3,
   "metadata": {},
   "outputs": [],
   "source": [
    "features.append(\"industryid\")  # Ensure categorical feature is in the feature list\n"
   ]
  },
  {
   "cell_type": "code",
   "execution_count": 4,
   "metadata": {},
   "outputs": [
    {
     "name": "stdout",
     "output_type": "stream",
     "text": [
      "🔍 Checking Features Before Train-Test Split:\n",
      "['open', 'high', 'low', 'close', 'adj. close', 'volume', 'dividend', 'shares outstanding', 'MA5', 'MA10', 'MA20', 'volume_change', 'price_change', 'industryid']\n",
      "🔍 Checking Columns in X Before Train-Test Split:\n",
      "Index(['open', 'high', 'low', 'close', 'adj. close', 'volume', 'dividend',\n",
      "       'shares outstanding', 'MA5', 'MA10', 'MA20', 'volume_change',\n",
      "       'price_change', 'industryid'],\n",
      "      dtype='object')\n"
     ]
    }
   ],
   "source": [
    "# Add 'industryid' to features (if not already present)\n",
    "if \"industryid\" not in features:\n",
    "    features.append(\"industryid\")\n",
    "\n",
    "print(\"🔍 Checking Features Before Train-Test Split:\")\n",
    "print(features)  # Should now contain 'industryid'\n",
    "\n",
    "# Create X and y\n",
    "X = data[features]\n",
    "y = data[\"Target\"]\n",
    "\n",
    "print(\"🔍 Checking Columns in X Before Train-Test Split:\")\n",
    "print(X.columns)  # Should include 'industryid'\n"
   ]
  },
  {
   "cell_type": "markdown",
   "metadata": {},
   "source": [
    "# train test split"
   ]
  },
  {
   "cell_type": "code",
   "execution_count": 5,
   "metadata": {},
   "outputs": [
    {
     "name": "stdout",
     "output_type": "stream",
     "text": [
      "🔍 Checking Columns in X_train After Split:\n",
      "Index(['open', 'high', 'low', 'close', 'adj. close', 'volume', 'dividend',\n",
      "       'shares outstanding', 'MA5', 'MA10', 'MA20', 'volume_change',\n",
      "       'price_change', 'industryid'],\n",
      "      dtype='object')\n"
     ]
    }
   ],
   "source": [
    "X_train, X_test, y_train, y_test = train_test_split(X, y, test_size=0.2, random_state=42)\n",
    "\n",
    "print(\"🔍 Checking Columns in X_train After Split:\")\n",
    "print(X_train.columns)  # Should now include 'industryid'\n"
   ]
  },
  {
   "cell_type": "markdown",
   "metadata": {},
   "source": [
    "# checking if infinite values exist"
   ]
  },
  {
   "cell_type": "code",
   "execution_count": 6,
   "metadata": {},
   "outputs": [
    {
     "name": "stdout",
     "output_type": "stream",
     "text": [
      "🔍 Checking for Infinite Values (inf) in Numeric Columns:\n",
      "open                  0\n",
      "high                  0\n",
      "low                   0\n",
      "close                 0\n",
      "adj. close            0\n",
      "volume                0\n",
      "dividend              0\n",
      "shares outstanding    0\n",
      "MA5                   0\n",
      "MA10                  0\n",
      "MA20                  0\n",
      "volume_change         0\n",
      "price_change          0\n",
      "industryid            0\n",
      "dtype: int64\n",
      "open                  0\n",
      "high                  0\n",
      "low                   0\n",
      "close                 0\n",
      "adj. close            0\n",
      "volume                0\n",
      "dividend              0\n",
      "shares outstanding    0\n",
      "MA5                   0\n",
      "MA10                  0\n",
      "MA20                  0\n",
      "volume_change         0\n",
      "price_change          0\n",
      "industryid            0\n",
      "dtype: int64\n"
     ]
    }
   ],
   "source": [
    "# Select only numeric columns\n",
    "numeric_cols = X_train.select_dtypes(include=[np.number]).columns\n",
    "\n",
    "# Check for infinite values in numeric columns only\n",
    "print(\"🔍 Checking for Infinite Values (inf) in Numeric Columns:\")\n",
    "print(np.isinf(X_train[numeric_cols]).sum())  # Should be all 0s\n",
    "print(np.isinf(X_test[numeric_cols]).sum())   # Should be all 0s\n"
   ]
  },
  {
   "cell_type": "markdown",
   "metadata": {},
   "source": [
    "# fix infinite values if they exist"
   ]
  },
  {
   "cell_type": "code",
   "execution_count": 7,
   "metadata": {},
   "outputs": [],
   "source": [
    "X_train.replace([np.inf, -np.inf], np.nan, inplace=True)\n",
    "X_test.replace([np.inf, -np.inf], np.nan, inplace=True)\n",
    "X_train.fillna(0, inplace=True)\n",
    "X_test.fillna(0, inplace=True)"
   ]
  },
  {
   "cell_type": "markdown",
   "metadata": {},
   "source": [
    "# Data Scalling"
   ]
  },
  {
   "cell_type": "code",
   "execution_count": 8,
   "metadata": {},
   "outputs": [],
   "source": [
    "X_train[\"industryid\"] = X_train[\"industryid\"].astype(str)\n",
    "X_test[\"industryid\"] = X_test[\"industryid\"].astype(str)\n"
   ]
  },
  {
   "cell_type": "code",
   "execution_count": 9,
   "metadata": {},
   "outputs": [],
   "source": [
    "from sklearn.preprocessing import LabelEncoder\n",
    "\n",
    "# Initialize Label Encoder\n",
    "label_encoder = LabelEncoder()\n",
    "\n",
    "# Fit & Transform `industryid`\n",
    "X_train[\"industryid\"] = label_encoder.fit_transform(X_train[\"industryid\"])\n",
    "X_test[\"industryid\"] = label_encoder.transform(X_test[\"industryid\"])\n"
   ]
  },
  {
   "cell_type": "code",
   "execution_count": 10,
   "metadata": {},
   "outputs": [
    {
     "name": "stdout",
     "output_type": "stream",
     "text": [
      "✅ Scaling Successful!\n"
     ]
    }
   ],
   "source": [
    "scaler = StandardScaler()\n",
    "X_train_scaled = scaler.fit_transform(X_train)\n",
    "X_test_scaled = scaler.transform(X_test)\n",
    "joblib.dump(scaler, \"scaler.pkl\")\n",
    "print(\"✅ Scaling Successful!\")\n"
   ]
  },
  {
   "cell_type": "markdown",
   "metadata": {},
   "source": [
    "# Logistic reg model"
   ]
  },
  {
   "cell_type": "code",
   "execution_count": 11,
   "metadata": {},
   "outputs": [
    {
     "name": "stdout",
     "output_type": "stream",
     "text": [
      "⚠️ Logistic Regression Accuracy (BAD MODEL): 53.60%\n",
      "\n",
      "Classification Report:\n",
      "               precision    recall  f1-score   support\n",
      "\n",
      "           0       0.54      0.52      0.53       622\n",
      "           1       0.53      0.55      0.54       615\n",
      "\n",
      "    accuracy                           0.54      1237\n",
      "   macro avg       0.54      0.54      0.54      1237\n",
      "weighted avg       0.54      0.54      0.54      1237\n",
      "\n"
     ]
    },
    {
     "data": {
      "text/plain": [
       "['stock_prediction_logistic.pkl']"
      ]
     },
     "execution_count": 11,
     "metadata": {},
     "output_type": "execute_result"
    }
   ],
   "source": [
    "log_model = LogisticRegression()\n",
    "log_model.fit(X_train_scaled, y_train)\n",
    "log_y_pred = log_model.predict(X_test_scaled)\n",
    "log_accuracy = accuracy_score(y_test, log_y_pred)\n",
    "print(f\"⚠️ Logistic Regression Accuracy (BAD MODEL): {log_accuracy * 100:.2f}%\")\n",
    "print(\"\\nClassification Report:\\n\", classification_report(y_test, log_y_pred))\n",
    "joblib.dump(log_model, \"stock_prediction_logistic.pkl\")\n"
   ]
  },
  {
   "cell_type": "markdown",
   "metadata": {},
   "source": [
    "# cnfusion matrix for the bad model"
   ]
  },
  {
   "cell_type": "code",
   "execution_count": 12,
   "metadata": {},
   "outputs": [
    {
     "data": {
      "image/png": "[encoded data removed]",
      "text/plain": [
       "<Figure size 640x480 with 2 Axes>"
      ]
     },
     "metadata": {},
     "output_type": "display_data"
    }
   ],
   "source": [
    "conf_matrix_log = confusion_matrix(y_test, log_y_pred)\n",
    "sns.heatmap(conf_matrix_log, annot=True, fmt=\"d\", cmap=\"Reds\", xticklabels=[\"Down\", \"Up\"], yticklabels=[\"Down\", \"Up\"])\n",
    "plt.xlabel(\"Predicted\")\n",
    "plt.ylabel(\"Actual\")\n",
    "plt.title(\"Confusion Matrix - BAD Logistic Model\")\n",
    "plt.show()"
   ]
  },
  {
   "cell_type": "markdown",
   "metadata": {},
   "source": [
    "# SMOTE\n",
    "\n",
    "this part isnt working properly its taking forever to run im assuming its due to the dataset is too large nd theres alot of oversampling happening"
   ]
  },
  {
   "cell_type": "code",
   "execution_count": 13,
   "metadata": {},
   "outputs": [
    {
     "name": "stdout",
     "output_type": "stream",
     "text": [
      "(4944, 14)\n",
      "(4944,)\n"
     ]
    }
   ],
   "source": [
    "print(X_train_scaled.shape)\n",
    "print(y_train.shape)"
   ]
  },
  {
   "cell_type": "code",
   "execution_count": 15,
   "metadata": {},
   "outputs": [
    {
     "name": "stdout",
     "output_type": "stream",
     "text": [
      "🔍 Class Distribution Before SMOTE:\n",
      "Target\n",
      "1    2487\n",
      "0    2457\n",
      "Name: count, dtype: int64\n",
      "✅ Class Distribution After SMOTE:\n",
      "Counter({0: 2487, 1: 2487})\n"
     ]
    }
   ],
   "source": [
    "from imblearn.over_sampling import SMOTE\n",
    "from collections import Counter\n",
    "\n",
    "# Check class distribution before SMOTE\n",
    "print(\"🔍 Class Distribution Before SMOTE:\")\n",
    "print(y_train.value_counts())\n",
    "\n",
    "# Dynamically adjust the sampling strategy to avoid errors\n",
    "smote = SMOTE(sampling_strategy=\"auto\", random_state=42)\n",
    "X_train_resampled, y_train_resampled = smote.fit_resample(X_train_scaled, y_train)\n",
    "\n",
    "# Check new class distribution\n",
    "print(\"✅ Class Distribution After SMOTE:\")\n",
    "print(Counter(y_train_resampled))  # Should now be balanced\n"
   ]
  },
  {
   "cell_type": "markdown",
   "metadata": {},
   "source": [
    "# Random forest"
   ]
  },
  {
   "cell_type": "code",
   "execution_count": 18,
   "metadata": {},
   "outputs": [
    {
     "name": "stdout",
     "output_type": "stream",
     "text": [
      "✅ Random Forest Accuracy (IMPROVED MODEL): 49.88%\n",
      "\n",
      "Classification Report:\n",
      "               precision    recall  f1-score   support\n",
      "\n",
      "           0       0.50      0.51      0.51       622\n",
      "           1       0.50      0.49      0.49       615\n",
      "\n",
      "    accuracy                           0.50      1237\n",
      "   macro avg       0.50      0.50      0.50      1237\n",
      "weighted avg       0.50      0.50      0.50      1237\n",
      "\n",
      "✅ Improved Model Saved as 'stock_prediction_rf.pkl'\n"
     ]
    }
   ],
   "source": [
    "# Train a Random Forest model (Improved)\n",
    "rf_model = RandomForestClassifier(n_estimators=200, random_state=42)\n",
    "rf_model.fit(X_train_resampled, y_train_resampled)\n",
    "\n",
    "# Make predictions\n",
    "rf_y_pred = rf_model.predict(X_test_scaled)\n",
    "\n",
    "# Evaluate performance\n",
    "rf_accuracy = accuracy_score(y_test, rf_y_pred)\n",
    "print(f\"✅ Random Forest Accuracy (IMPROVED MODEL): {rf_accuracy * 100:.2f}%\")\n",
    "print(\"\\nClassification Report:\\n\", classification_report(y_test, rf_y_pred))\n",
    "\n",
    "# Save the trained model\n",
    "joblib.dump(rf_model, \"stock_prediction_rf.pkl\")\n",
    "print(\"✅ Improved Model Saved as 'stock_prediction_rf.pkl'\")\n"
   ]
  },
  {
   "cell_type": "markdown",
   "metadata": {},
   "source": [
    "# confusion matrix improved model"
   ]
  },
  {
   "cell_type": "code",
   "execution_count": 17,
   "metadata": {},
   "outputs": [
    {
     "data": {
      "image/png": "[encoded data removed]",
      "text/plain": [
       "<Figure size 640x480 with 2 Axes>"
      ]
     },
     "metadata": {},
     "output_type": "display_data"
    },
    {
     "name": "stdout",
     "output_type": "stream",
     "text": [
      "🎯 Model Training Completed! Use 'stock_prediction_rf.pkl' for predictions.\n"
     ]
    }
   ],
   "source": [
    "conf_matrix_rf = confusion_matrix(y_test, rf_y_pred)\n",
    "sns.heatmap(conf_matrix_rf, annot=True, fmt=\"d\", cmap=\"Blues\", xticklabels=[\"Down\", \"Up\"], yticklabels=[\"Down\", \"Up\"])\n",
    "plt.xlabel(\"Predicted\")\n",
    "plt.ylabel(\"Actual\")\n",
    "plt.title(\"Confusion Matrix - IMPROVED Random Forest Model\")\n",
    "plt.show()\n",
    "\n",
    "print(\"🎯 Model Training Completed! Use 'stock_prediction_rf.pkl' for predictions.\")\n"
   ]
  }
 ],
 "metadata": {
  "kernelspec": {
   "display_name": "Python 3",
   "language": "python",
   "name": "python3"
  },
  "language_info": {
   "codemirror_mode": {
    "name": "ipython",
    "version": 3
   },
   "file_extension": ".py",
   "mimetype": "text/x-python",
   "name": "python",
   "nbconvert_exporter": "python",
   "pygments_lexer": "ipython3",
   "version": "3.13.2"
  }
 },
 "nbformat": 4,
 "nbformat_minor": 2
}
